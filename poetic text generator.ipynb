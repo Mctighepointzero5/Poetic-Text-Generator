{
 "cells": [
  {
   "cell_type": "code",
   "execution_count": 1,
   "id": "3d1cb3bd",
   "metadata": {},
   "outputs": [],
   "source": [
    "#import packages.\n",
    "import random\n",
    "import numpy as np\n",
    "import tensorflow as tf\n",
    "from tensorflow.keras.models import Sequential\n",
    "from tensorflow.keras.layers import LSTM, Dense, Activation\n",
    "from tensorflow.keras.optimizers import RMSprop"
   ]
  },
  {
   "cell_type": "code",
   "execution_count": 2,
   "id": "2508d994",
   "metadata": {},
   "outputs": [],
   "source": [
    "#tell computer where to get data\n",
    "filepath = tf.keras.utils.get_file('shakespeare.txt','https://storage.googleapis.com/download.tensorflow.org/data/shakespeare.txt')"
   ]
  },
  {
   "cell_type": "code",
   "execution_count": 3,
   "id": "4f312e7f",
   "metadata": {},
   "outputs": [],
   "source": [
    "#creates a data set all in lower case. \n",
    "text = open(filepath,'rb').read().decode(encoding = 'utf-8').lower()"
   ]
  },
  {
   "cell_type": "code",
   "execution_count": 4,
   "id": "b544cd02",
   "metadata": {},
   "outputs": [],
   "source": [
    "#sort characters\n",
    "characters = sorted(set(text))"
   ]
  },
  {
   "cell_type": "code",
   "execution_count": 5,
   "id": "8f5998ef",
   "metadata": {},
   "outputs": [],
   "source": [
    "#creates a library that has characters as a key and index as value for all indices and character which assigns a number to each character.\n",
    "char_to_index = dict((c,i) for i, c in enumerate(characters))\n",
    "index_to_char = dict((i,c) for i, c in enumerate(characters))"
   ]
  },
  {
   "cell_type": "code",
   "execution_count": 6,
   "id": "5bb90a73",
   "metadata": {},
   "outputs": [],
   "source": [
    "#tells computer how long a sequence should be and where the next stest should start.\n",
    "SEQ_LENGTH = 40\n",
    "STEP_SIZE = 3"
   ]
  },
  {
   "cell_type": "code",
   "execution_count": 7,
   "id": "b295ec4b",
   "metadata": {},
   "outputs": [],
   "source": [
    "#creates empty lists. \n",
    "sentences = []\n",
    "next_characters = []"
   ]
  },
  {
   "cell_type": "code",
   "execution_count": 8,
   "id": "be73a95a",
   "metadata": {},
   "outputs": [],
   "source": [
    "for i in range(0, len(text) -SEQ_LENGTH,STEP_SIZE):\n",
    "    sentences.append(text[i:i+SEQ_LENGTH]) #if sequence is 5 we get characters up until 4\n",
    "    next_characters.append(text[i+SEQ_LENGTH])#gets next correct letters\n",
    "#this code fills the two lists"
   ]
  },
  {
   "cell_type": "code",
   "execution_count": 9,
   "id": "8f6642d4",
   "metadata": {
    "scrolled": true
   },
   "outputs": [],
   "source": [
    "x = np.zeros((len(sentences), SEQ_LENGTH, len(characters)), dtype = np.bool_)\n",
    "y = np.zeros((len(sentences), len(characters)), dtype = np.bool_)"
   ]
  },
  {
   "cell_type": "code",
   "execution_count": 10,
   "id": "b22ac942",
   "metadata": {},
   "outputs": [],
   "source": [
    "for i, sentence in enumerate (sentences):\n",
    "    for t, character in enumerate (sentence):\n",
    "        x[i,t, char_to_index[character]] = 1\n",
    "    y[i,char_to_index[next_characters[i]]] = 1"
   ]
  },
  {
   "cell_type": "code",
   "execution_count": 11,
   "id": "81779462",
   "metadata": {},
   "outputs": [],
   "source": [
    "model = Sequential()\n",
    "model.add(LSTM(128,input_shape = (SEQ_LENGTH, len(characters))))\n",
    "model.add(Dense(len(characters)))\n",
    "model.add(Activation('softmax'))#scales values"
   ]
  },
  {
   "cell_type": "code",
   "execution_count": 12,
   "id": "58575ee7",
   "metadata": {},
   "outputs": [
    {
     "name": "stderr",
     "output_type": "stream",
     "text": [
      "WARNING:absl:`lr` is deprecated, please use `learning_rate` instead, or use the legacy optimizer, e.g.,tf.keras.optimizers.legacy.RMSprop.\n"
     ]
    }
   ],
   "source": [
    "model.compile(loss = 'categorical_crossentropy', optimizer = RMSprop(lr = 0.01))"
   ]
  },
  {
   "cell_type": "code",
   "execution_count": 13,
   "id": "080cfa86",
   "metadata": {},
   "outputs": [
    {
     "name": "stdout",
     "output_type": "stream",
     "text": [
      "Epoch 1/20\n",
      "1453/1453 [==============================] - 79s 54ms/step - loss: 2.4593\n",
      "Epoch 2/20\n",
      "1453/1453 [==============================] - 87s 60ms/step - loss: 2.1066\n",
      "Epoch 3/20\n",
      "1453/1453 [==============================] - 88s 60ms/step - loss: 1.9725\n",
      "Epoch 4/20\n",
      "1453/1453 [==============================] - 87s 60ms/step - loss: 1.8824\n",
      "Epoch 5/20\n",
      "1453/1453 [==============================] - 86s 59ms/step - loss: 1.8158\n",
      "Epoch 6/20\n",
      "1453/1453 [==============================] - 87s 60ms/step - loss: 1.7618\n",
      "Epoch 7/20\n",
      "1453/1453 [==============================] - 86s 59ms/step - loss: 1.7168\n",
      "Epoch 8/20\n",
      "1453/1453 [==============================] - 86s 60ms/step - loss: 1.6792\n",
      "Epoch 9/20\n",
      "1453/1453 [==============================] - 87s 60ms/step - loss: 1.6466\n",
      "Epoch 10/20\n",
      "1453/1453 [==============================] - 87s 60ms/step - loss: 1.6189\n",
      "Epoch 11/20\n",
      "1453/1453 [==============================] - 88s 61ms/step - loss: 1.5941\n",
      "Epoch 12/20\n",
      "1453/1453 [==============================] - 88s 61ms/step - loss: 1.5719\n",
      "Epoch 13/20\n",
      "1453/1453 [==============================] - 88s 61ms/step - loss: 1.5527\n",
      "Epoch 14/20\n",
      "1453/1453 [==============================] - 88s 61ms/step - loss: 1.5358\n",
      "Epoch 15/20\n",
      "1453/1453 [==============================] - 88s 61ms/step - loss: 1.5192\n",
      "Epoch 16/20\n",
      "1453/1453 [==============================] - 88s 60ms/step - loss: 1.5046\n",
      "Epoch 17/20\n",
      "1453/1453 [==============================] - 89s 61ms/step - loss: 1.4921\n",
      "Epoch 18/20\n",
      "1453/1453 [==============================] - 88s 61ms/step - loss: 1.4801\n",
      "Epoch 19/20\n",
      "1453/1453 [==============================] - 89s 61ms/step - loss: 1.4683\n",
      "Epoch 20/20\n",
      "1453/1453 [==============================] - 89s 61ms/step - loss: 1.4576\n"
     ]
    },
    {
     "data": {
      "text/plain": [
       "<keras.callbacks.History at 0x25bb1175b80>"
      ]
     },
     "execution_count": 13,
     "metadata": {},
     "output_type": "execute_result"
    }
   ],
   "source": [
    "model.fit(x,y, batch_size =256, epochs = 20)"
   ]
  },
  {
   "cell_type": "code",
   "execution_count": 14,
   "id": "8b95a212",
   "metadata": {},
   "outputs": [
    {
     "name": "stderr",
     "output_type": "stream",
     "text": [
      "WARNING:absl:Found untraced functions such as _update_step_xla, lstm_cell_layer_call_fn, lstm_cell_layer_call_and_return_conditional_losses while saving (showing 3 of 3). These functions will not be directly callable after loading.\n"
     ]
    },
    {
     "name": "stdout",
     "output_type": "stream",
     "text": [
      "INFO:tensorflow:Assets written to: textgenerator.model\\assets\n"
     ]
    },
    {
     "name": "stderr",
     "output_type": "stream",
     "text": [
      "INFO:tensorflow:Assets written to: textgenerator.model\\assets\n"
     ]
    }
   ],
   "source": [
    "model.save('textgenerator.model')"
   ]
  },
  {
   "cell_type": "code",
   "execution_count": 15,
   "id": "72a7cd6a",
   "metadata": {},
   "outputs": [],
   "source": [
    "model = tf.keras.models.load_model('textgenerator.model')"
   ]
  },
  {
   "cell_type": "code",
   "execution_count": 16,
   "id": "6b659760",
   "metadata": {},
   "outputs": [],
   "source": [
    "def sample(preds, temperature = 1.0):\n",
    "    preds = np.asarray(preds).astype('float64')\n",
    "    preds = np.log(preds) / temperature\n",
    "    exp_preds = np.exp(preds)\n",
    "    preds = exp_preds / np.sum(exp_preds)\n",
    "    probas = np.random.multinomial(1, preds, 1)\n",
    "    return np.argmax(probas)"
   ]
  },
  {
   "cell_type": "code",
   "execution_count": 17,
   "id": "0e68e367",
   "metadata": {},
   "outputs": [],
   "source": [
    "def generate_text(length, temperature):\n",
    "    start_index = random.randint(0, len(text) - SEQ_LENGTH - 1)\n",
    "    generated = ''\n",
    "    sentence = text[start_index: start_index + SEQ_LENGTH]\n",
    "    generated += sentence\n",
    "    for i in range(length):\n",
    "        x_predictions = np.zeros((1, SEQ_LENGTH, len(characters)))\n",
    "        for t, char in enumerate(sentence):\n",
    "            x_predictions[0, t, char_to_index[char]] = 1\n",
    "\n",
    "        predictions = model.predict(x_predictions, verbose=0)[0]\n",
    "        next_index = sample(predictions,\n",
    "                                 temperature)\n",
    "        next_character = index_to_char[next_index]\n",
    "\n",
    "        generated += next_character\n",
    "        sentence = sentence[1:] + next_character\n",
    "    return generated"
   ]
  },
  {
   "cell_type": "code",
   "execution_count": 20,
   "id": "d428702f",
   "metadata": {},
   "outputs": [
    {
     "name": "stdout",
     "output_type": "stream",
     "text": [
      "--------0.2----------\n",
      "'s broken wing,\n",
      "redeem from broking pawnest the see the forth,\n",
      "and there is the will speak the forth the seeth\n",
      "the man and from him to the father the man\n",
      "that was do it breath, and the world be the partor,\n",
      "and the world comes the heads of the face\n",
      "that i shall be the mind of her fair the heart\n",
      "that the king of the face of the man be the f\n",
      "--------0.4----------\n",
      "aris to saint peter's church,\n",
      "or i will not be the mother with her comes,\n",
      "and the father of the begin the was fair,\n",
      "there is the will of the provow'st the mark,\n",
      "she is mers of his marries the fear,\n",
      "and there is the company the more for hourself\n",
      "and discoused the man of words and fair tongue;\n",
      "for there is no more the deed for the great,\n",
      "an\n",
      "--------0.6---------\n",
      "and dion, have\n",
      "been both at delphos, and the wrengen thee:\n",
      "you so, all the paint of the man upon the gates\n",
      "i shall be more can the world resore the deeds\n",
      "the shill to make upon the frathor of when\n",
      "no more of the giver with up, and i king recemper\n",
      "that upon the from the farther with ownage.\n",
      "\n",
      "cominius:\n",
      "i play you, place, sir, but, my lord, \n",
      "--------0.8----------\n",
      "it it for thy sake\n",
      "and would have rent in all and took thee,\n",
      "how shall a brothard than in here our is,\n",
      "and he dark to him. confoath, i'll be me he proceed.\n",
      "\n",
      "queen elizabeth:\n",
      "good cloudio, from here and sind to me no batter,\n",
      "but a king, for well no word me. ah i spee,\n",
      "and incecting to my like; thousand chandey,\n",
      "i know what with o'legive of\n",
      "--------1----------\n",
      "ee baptista's daughter?\n",
      "\n",
      "tranio:\n",
      "no, sir, the earth, are is it rice am cores:\n",
      "that i tell me therefore? what serone lie,\n",
      "and i bet their gives in out of this.\n",
      "\n",
      "siricann:\n",
      "the way! cause upen thee, lord!\n",
      "why, ala, arcest to dick you!\n",
      "give you should you shalp their sollipent and all your sin,\n",
      "that thou falt my herds of the leps with me\n",
      "moul\n"
     ]
    }
   ],
   "source": [
    "print('--------0.2----------')\n",
    "print(generate_text(300, 0.2))\n",
    "print('--------0.4----------')\n",
    "print(generate_text(300, 0.4))\n",
    "print('--------0.6---------')\n",
    "print(generate_text(300, 0.6))\n",
    "print('--------0.8----------')\n",
    "print(generate_text(300, 0.8))\n",
    "print ('--------1----------')\n",
    "print(generate_text(300, 1.0))"
   ]
  },
  {
   "cell_type": "code",
   "execution_count": null,
   "id": "71aec1f5",
   "metadata": {},
   "outputs": [],
   "source": []
  },
  {
   "cell_type": "code",
   "execution_count": null,
   "id": "4ac986d6",
   "metadata": {},
   "outputs": [],
   "source": []
  }
 ],
 "metadata": {
  "kernelspec": {
   "display_name": "Python 3 (ipykernel)",
   "language": "python",
   "name": "python3"
  },
  "language_info": {
   "codemirror_mode": {
    "name": "ipython",
    "version": 3
   },
   "file_extension": ".py",
   "mimetype": "text/x-python",
   "name": "python",
   "nbconvert_exporter": "python",
   "pygments_lexer": "ipython3",
   "version": "3.9.13"
  }
 },
 "nbformat": 4,
 "nbformat_minor": 5
}
